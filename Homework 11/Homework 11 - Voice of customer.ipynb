{
 "cells": [
  {
   "cell_type": "code",
   "execution_count": 1,
   "metadata": {
    "id": "Iejns-sVgfjf"
   },
   "outputs": [],
   "source": [
    "import pandas as pd\n",
    "import numpy as np"
   ]
  },
  {
   "cell_type": "code",
   "execution_count": 2,
   "metadata": {
    "colab": {
     "base_uri": "https://localhost:8080/"
    },
    "id": "TjUmKj3Xgj_k",
    "outputId": "d33aad71-b9bd-46ee-b619-063aa3558bd3"
   },
   "outputs": [
    {
     "name": "stdout",
     "output_type": "stream",
     "text": [
      "Collecting pandas-profiling\n",
      "  Using cached https://files.pythonhosted.org/packages/3b/a3/34519d16e5ebe69bad30c5526deea2c3912634ced7f9b5e6e0bb9dbbd567/pandas_profiling-3.0.0-py2.py3-none-any.whl\n",
      "Collecting missingno>=0.4.2 (from pandas-profiling)\n",
      "  Using cached https://files.pythonhosted.org/packages/d8/c2/b407dce6b18d44f52173f6921d62f326e1329dd6d82fa03b380a14612e4c/missingno-0.5.0-py3-none-any.whl\n",
      "Collecting pydantic>=1.8.1 (from pandas-profiling)\n",
      "  Using cached https://files.pythonhosted.org/packages/84/6a/3b9902f79b81b4f67b6e7497f3d9c9f1e6bd7a7f4e93ccd6bc0aa8f81282/pydantic-1.8.2-cp37-cp37m-win_amd64.whl\n",
      "Collecting tangled-up-in-unicode==0.1.0 (from pandas-profiling)\n",
      "  Using cached https://files.pythonhosted.org/packages/93/3e/cb354fb2097fcf2fd5b5a342b10ae2a6e9363ba435b64e3e00c414064bc7/tangled_up_in_unicode-0.1.0-py3-none-any.whl\n",
      "Requirement already satisfied, skipping upgrade: pandas!=1.0.0,!=1.0.1,!=1.0.2,!=1.1.0,>=0.25.3 in c:\\users\\srisudaw\\appdata\\local\\continuum\\anaconda3\\lib\\site-packages (from pandas-profiling) (1.2.4)\n",
      "Collecting seaborn>=0.10.1 (from pandas-profiling)\n",
      "  Using cached https://files.pythonhosted.org/packages/68/ad/6c2406ae175f59ec616714e408979b674fe27b9587f79d59a528ddfbcd5b/seaborn-0.11.1-py3-none-any.whl\n",
      "Collecting jinja2>=2.11.1 (from pandas-profiling)\n",
      "  Using cached https://files.pythonhosted.org/packages/80/21/ae597efc7ed8caaa43fb35062288baaf99a7d43ff0cf66452ddf47604ee6/Jinja2-3.0.1-py3-none-any.whl\n",
      "Collecting htmlmin>=0.1.12 (from pandas-profiling)\n",
      "Collecting matplotlib>=3.2.0 (from pandas-profiling)\n",
      "  Using cached https://files.pythonhosted.org/packages/ec/f2/536de9d6eb75b053ea53944da62564499d5a3c786efe77f7075e35954782/matplotlib-3.4.2-cp37-cp37m-win_amd64.whl\n",
      "Collecting tqdm>=4.48.2 (from pandas-profiling)\n",
      "  Using cached https://files.pythonhosted.org/packages/7a/ec/f8ff3ccfc4e59ce619a66a0bf29dc3b49c2e8c07de29d572e191c006eaa2/tqdm-4.61.2-py2.py3-none-any.whl\n",
      "Collecting phik>=0.11.1 (from pandas-profiling)\n",
      "Requirement already satisfied, skipping upgrade: scipy>=1.4.1 in c:\\users\\srisudaw\\appdata\\local\\continuum\\anaconda3\\lib\\site-packages (from pandas-profiling) (1.7.0)\n",
      "Collecting requests>=2.24.0 (from pandas-profiling)\n",
      "  Using cached https://files.pythonhosted.org/packages/92/96/144f70b972a9c0eabbd4391ef93ccd49d0f2747f4f6a2a2738e99e5adc65/requests-2.26.0-py2.py3-none-any.whl\n",
      "Requirement already satisfied, skipping upgrade: numpy>=1.16.0 in c:\\users\\srisudaw\\appdata\\local\\continuum\\anaconda3\\lib\\site-packages (from pandas-profiling) (1.20.3)\n",
      "Collecting visions[type_image_path]==0.7.1 (from pandas-profiling)\n",
      "  Using cached https://files.pythonhosted.org/packages/80/96/01e4ba22cef96ae5035dbcf0451c2f4f859f8f17393b98406b23f0034279/visions-0.7.1-py3-none-any.whl\n",
      "Requirement already satisfied, skipping upgrade: joblib in c:\\users\\srisudaw\\appdata\\local\\continuum\\anaconda3\\lib\\site-packages (from pandas-profiling) (0.13.2)\n",
      "Requirement already satisfied, skipping upgrade: PyYAML>=5.0.0 in c:\\users\\srisudaw\\appdata\\local\\continuum\\anaconda3\\lib\\site-packages (from pandas-profiling) (5.1.2)\n",
      "Requirement already satisfied, skipping upgrade: typing-extensions>=3.7.4.3 in c:\\users\\srisudaw\\appdata\\local\\continuum\\anaconda3\\lib\\site-packages (from pydantic>=1.8.1->pandas-profiling) (3.10.0.0)\n",
      "Requirement already satisfied, skipping upgrade: pytz>=2017.3 in c:\\users\\srisudaw\\appdata\\local\\continuum\\anaconda3\\lib\\site-packages (from pandas!=1.0.0,!=1.0.1,!=1.0.2,!=1.1.0,>=0.25.3->pandas-profiling) (2019.3)\n",
      "Requirement already satisfied, skipping upgrade: python-dateutil>=2.7.3 in c:\\users\\srisudaw\\appdata\\local\\continuum\\anaconda3\\lib\\site-packages (from pandas!=1.0.0,!=1.0.1,!=1.0.2,!=1.1.0,>=0.25.3->pandas-profiling) (2.8.0)\n",
      "Collecting MarkupSafe>=2.0 (from jinja2>=2.11.1->pandas-profiling)\n",
      "  Using cached https://files.pythonhosted.org/packages/1b/f6/f774e745edd76eef70bf83062823be0dca95ee9c9211f18aec490892ab33/MarkupSafe-2.0.1-cp37-cp37m-win_amd64.whl\n",
      "Requirement already satisfied, skipping upgrade: pillow>=6.2.0 in c:\\users\\srisudaw\\appdata\\local\\continuum\\anaconda3\\lib\\site-packages (from matplotlib>=3.2.0->pandas-profiling) (6.2.0)\n",
      "Requirement already satisfied, skipping upgrade: cycler>=0.10 in c:\\users\\srisudaw\\appdata\\local\\continuum\\anaconda3\\lib\\site-packages (from matplotlib>=3.2.0->pandas-profiling) (0.10.0)\n",
      "Requirement already satisfied, skipping upgrade: kiwisolver>=1.0.1 in c:\\users\\srisudaw\\appdata\\local\\continuum\\anaconda3\\lib\\site-packages (from matplotlib>=3.2.0->pandas-profiling) (1.1.0)\n",
      "Requirement already satisfied, skipping upgrade: pyparsing>=2.2.1 in c:\\users\\srisudaw\\appdata\\local\\continuum\\anaconda3\\lib\\site-packages (from matplotlib>=3.2.0->pandas-profiling) (2.4.2)\n",
      "Requirement already satisfied, skipping upgrade: colorama; platform_system == \"Windows\" in c:\\users\\srisudaw\\appdata\\local\\continuum\\anaconda3\\lib\\site-packages (from tqdm>=4.48.2->pandas-profiling) (0.4.1)\n",
      "Requirement already satisfied, skipping upgrade: certifi>=2017.4.17 in c:\\users\\srisudaw\\appdata\\local\\continuum\\anaconda3\\lib\\site-packages (from requests>=2.24.0->pandas-profiling) (2019.9.11)\n",
      "Requirement already satisfied, skipping upgrade: urllib3<1.27,>=1.21.1 in c:\\users\\srisudaw\\appdata\\local\\continuum\\anaconda3\\lib\\site-packages (from requests>=2.24.0->pandas-profiling) (1.24.2)\n",
      "Collecting charset-normalizer~=2.0.0; python_version >= \"3\" (from requests>=2.24.0->pandas-profiling)\n",
      "  Using cached https://files.pythonhosted.org/packages/c4/1d/e6ce112f7237fc746e632e1cbdc24890cad95505c6cd4b711f4fd17f4735/charset_normalizer-2.0.3-py3-none-any.whl\n",
      "Requirement already satisfied, skipping upgrade: idna<4,>=2.5; python_version >= \"3\" in c:\\users\\srisudaw\\appdata\\local\\continuum\\anaconda3\\lib\\site-packages (from requests>=2.24.0->pandas-profiling) (2.8)\n",
      "Collecting networkx>=2.4 (from visions[type_image_path]==0.7.1->pandas-profiling)\n",
      "  Using cached https://files.pythonhosted.org/packages/f3/b7/c7f488101c0bb5e4178f3cde416004280fd40262433496830de8a8c21613/networkx-2.5.1-py3-none-any.whl\n",
      "Collecting attrs>=19.3.0 (from visions[type_image_path]==0.7.1->pandas-profiling)\n",
      "  Using cached https://files.pythonhosted.org/packages/20/a9/ba6f1cd1a1517ff022b35acd6a7e4246371dfab08b8e42b829b6d07913cc/attrs-21.2.0-py2.py3-none-any.whl\n",
      "Requirement already satisfied, skipping upgrade: bottleneck in c:\\users\\srisudaw\\appdata\\local\\continuum\\anaconda3\\lib\\site-packages (from visions[type_image_path]==0.7.1->pandas-profiling) (1.2.1)\n",
      "Collecting multimethod==1.4 (from visions[type_image_path]==0.7.1->pandas-profiling)\n",
      "  Using cached https://files.pythonhosted.org/packages/7a/d0/ce5ad0392aa12645b7ad91a5983d6b625b704b021d9cd48c587630c1a9ac/multimethod-1.4-py2.py3-none-any.whl\n",
      "Collecting imagehash; extra == \"type_image_path\" (from visions[type_image_path]==0.7.1->pandas-profiling)\n",
      "Requirement already satisfied, skipping upgrade: six>=1.5 in c:\\users\\srisudaw\\appdata\\local\\continuum\\anaconda3\\lib\\site-packages (from python-dateutil>=2.7.3->pandas!=1.0.0,!=1.0.1,!=1.0.2,!=1.1.0,>=0.25.3->pandas-profiling) (1.12.0)\n",
      "Requirement already satisfied, skipping upgrade: setuptools in c:\\users\\srisudaw\\appdata\\local\\continuum\\anaconda3\\lib\\site-packages (from kiwisolver>=1.0.1->matplotlib>=3.2.0->pandas-profiling) (41.4.0)\n",
      "Requirement already satisfied, skipping upgrade: decorator<5,>=4.3 in c:\\users\\srisudaw\\appdata\\local\\continuum\\anaconda3\\lib\\site-packages (from networkx>=2.4->visions[type_image_path]==0.7.1->pandas-profiling) (4.4.0)\n",
      "Requirement already satisfied, skipping upgrade: PyWavelets in c:\\users\\srisudaw\\appdata\\local\\continuum\\anaconda3\\lib\\site-packages (from imagehash; extra == \"type_image_path\"->visions[type_image_path]==0.7.1->pandas-profiling) (1.0.3)\n",
      "Installing collected packages: matplotlib, seaborn, missingno, pydantic, tangled-up-in-unicode, MarkupSafe, jinja2, htmlmin, tqdm, phik, charset-normalizer, requests, networkx, attrs, multimethod, imagehash, visions, pandas-profiling\n",
      "  Found existing installation: matplotlib 3.1.1\n",
      "    Uninstalling matplotlib-3.1.1:\n"
     ]
    },
    {
     "name": "stderr",
     "output_type": "stream",
     "text": [
      "ERROR: conda 4.10.1 requires ruamel_yaml_conda>=0.11.14, which is not installed.\n",
      "ERROR: conda-repo-cli 1.0.4 requires pathlib, which is not installed.\n",
      "ERROR: glue-core 0.15.6 has requirement mpl-scatter-density>=0.5, but you'll have mpl-scatter-density 0.4 which is incompatible.\n",
      "ERROR: phik 0.11.2 has requirement joblib>=0.14.1, but you'll have joblib 0.13.2 which is incompatible.\n",
      "ERROR: Could not install packages due to an EnvironmentError: [WinError 5] Access is denied: 'c:\\\\users\\\\srisudaw\\\\appdata\\\\local\\\\continuum\\\\anaconda3\\\\lib\\\\site-packages\\\\matplotlib\\\\backends\\\\_backend_agg.cp37-win_amd64.pyd'\n",
      "Consider using the `--user` option or check the permissions.\n",
      "\n"
     ]
    },
    {
     "name": "stdout",
     "output_type": "stream",
     "text": [
      "Requirement already up-to-date: pythainlp in c:\\users\\srisudaw\\appdata\\local\\continuum\\anaconda3\\lib\\site-packages (2.3.1)\n",
      "Requirement already satisfied, skipping upgrade: python-crfsuite>=0.9.6 in c:\\users\\srisudaw\\appdata\\local\\continuum\\anaconda3\\lib\\site-packages (from pythainlp) (0.9.7)\n",
      "Requirement already satisfied, skipping upgrade: requests>=2.22.0 in c:\\users\\srisudaw\\appdata\\local\\continuum\\anaconda3\\lib\\site-packages (from pythainlp) (2.22.0)\n",
      "Requirement already satisfied, skipping upgrade: tinydb>=3.0 in c:\\users\\srisudaw\\appdata\\local\\continuum\\anaconda3\\lib\\site-packages (from pythainlp) (4.5.1)\n",
      "Requirement already satisfied, skipping upgrade: urllib3!=1.25.0,!=1.25.1,<1.26,>=1.21.1 in c:\\users\\srisudaw\\appdata\\local\\continuum\\anaconda3\\lib\\site-packages (from requests>=2.22.0->pythainlp) (1.24.2)\n",
      "Requirement already satisfied, skipping upgrade: chardet<3.1.0,>=3.0.2 in c:\\users\\srisudaw\\appdata\\local\\continuum\\anaconda3\\lib\\site-packages (from requests>=2.22.0->pythainlp) (3.0.4)\n",
      "Requirement already satisfied, skipping upgrade: idna<2.9,>=2.5 in c:\\users\\srisudaw\\appdata\\local\\continuum\\anaconda3\\lib\\site-packages (from requests>=2.22.0->pythainlp) (2.8)\n",
      "Requirement already satisfied, skipping upgrade: certifi>=2017.4.17 in c:\\users\\srisudaw\\appdata\\local\\continuum\\anaconda3\\lib\\site-packages (from requests>=2.22.0->pythainlp) (2019.9.11)\n",
      "Requirement already satisfied, skipping upgrade: typing-extensions<4.0.0,>=3.10.0; python_version <= \"3.7\" in c:\\users\\srisudaw\\appdata\\local\\continuum\\anaconda3\\lib\\site-packages (from tinydb>=3.0->pythainlp) (3.10.0.0)\n",
      "Requirement already satisfied: pyLDAvis in c:\\users\\srisudaw\\appdata\\local\\continuum\\anaconda3\\lib\\site-packages (2.1.2)\n",
      "Requirement already satisfied: joblib>=0.8.4 in c:\\users\\srisudaw\\appdata\\local\\continuum\\anaconda3\\lib\\site-packages (from pyLDAvis) (0.13.2)\n",
      "Requirement already satisfied: wheel>=0.23.0 in c:\\users\\srisudaw\\appdata\\local\\continuum\\anaconda3\\lib\\site-packages (from pyLDAvis) (0.33.6)\n",
      "Requirement already satisfied: future in c:\\users\\srisudaw\\appdata\\local\\continuum\\anaconda3\\lib\\site-packages (from pyLDAvis) (0.18.2)\n",
      "Requirement already satisfied: numexpr in c:\\users\\srisudaw\\appdata\\local\\continuum\\anaconda3\\lib\\site-packages (from pyLDAvis) (2.7.0)\n",
      "Requirement already satisfied: numpy>=1.9.2 in c:\\users\\srisudaw\\appdata\\local\\continuum\\anaconda3\\lib\\site-packages (from pyLDAvis) (1.20.3)\n",
      "Requirement already satisfied: scipy>=0.18.0 in c:\\users\\srisudaw\\appdata\\local\\continuum\\anaconda3\\lib\\site-packages (from pyLDAvis) (1.7.0)\n",
      "Requirement already satisfied: funcy in c:\\users\\srisudaw\\appdata\\local\\continuum\\anaconda3\\lib\\site-packages (from pyLDAvis) (1.16)\n",
      "Requirement already satisfied: pytest in c:\\users\\srisudaw\\appdata\\local\\continuum\\anaconda3\\lib\\site-packages (from pyLDAvis) (5.2.1)\n",
      "Requirement already satisfied: pandas>=0.17.0 in c:\\users\\srisudaw\\appdata\\local\\continuum\\anaconda3\\lib\\site-packages (from pyLDAvis) (1.2.4)\n",
      "Requirement already satisfied: jinja2>=2.7.2 in c:\\users\\srisudaw\\appdata\\local\\continuum\\anaconda3\\lib\\site-packages (from pyLDAvis) (2.10.3)\n",
      "Requirement already satisfied: py>=1.5.0 in c:\\users\\srisudaw\\appdata\\local\\continuum\\anaconda3\\lib\\site-packages (from pytest->pyLDAvis) (1.8.0)\n",
      "Requirement already satisfied: packaging in c:\\users\\srisudaw\\appdata\\local\\continuum\\anaconda3\\lib\\site-packages (from pytest->pyLDAvis) (19.2)\n",
      "Requirement already satisfied: attrs>=17.4.0 in c:\\users\\srisudaw\\appdata\\local\\continuum\\anaconda3\\lib\\site-packages (from pytest->pyLDAvis) (19.2.0)\n",
      "Requirement already satisfied: more-itertools>=4.0.0 in c:\\users\\srisudaw\\appdata\\local\\continuum\\anaconda3\\lib\\site-packages (from pytest->pyLDAvis) (7.2.0)\n",
      "Requirement already satisfied: atomicwrites>=1.0 in c:\\users\\srisudaw\\appdata\\local\\continuum\\anaconda3\\lib\\site-packages (from pytest->pyLDAvis) (1.3.0)\n",
      "Requirement already satisfied: pluggy<1.0,>=0.12 in c:\\users\\srisudaw\\appdata\\local\\continuum\\anaconda3\\lib\\site-packages (from pytest->pyLDAvis) (0.13.0)\n",
      "Requirement already satisfied: wcwidth in c:\\users\\srisudaw\\appdata\\local\\continuum\\anaconda3\\lib\\site-packages (from pytest->pyLDAvis) (0.1.7)\n",
      "Requirement already satisfied: importlib-metadata>=0.12 in c:\\users\\srisudaw\\appdata\\local\\continuum\\anaconda3\\lib\\site-packages (from pytest->pyLDAvis) (0.23)\n",
      "Requirement already satisfied: colorama in c:\\users\\srisudaw\\appdata\\local\\continuum\\anaconda3\\lib\\site-packages (from pytest->pyLDAvis) (0.4.1)\n",
      "Requirement already satisfied: python-dateutil>=2.7.3 in c:\\users\\srisudaw\\appdata\\local\\continuum\\anaconda3\\lib\\site-packages (from pandas>=0.17.0->pyLDAvis) (2.8.0)\n",
      "Requirement already satisfied: pytz>=2017.3 in c:\\users\\srisudaw\\appdata\\local\\continuum\\anaconda3\\lib\\site-packages (from pandas>=0.17.0->pyLDAvis) (2019.3)\n",
      "Requirement already satisfied: MarkupSafe>=0.23 in c:\\users\\srisudaw\\appdata\\local\\continuum\\anaconda3\\lib\\site-packages (from jinja2>=2.7.2->pyLDAvis) (1.1.1)\n",
      "Requirement already satisfied: pyparsing>=2.0.2 in c:\\users\\srisudaw\\appdata\\local\\continuum\\anaconda3\\lib\\site-packages (from packaging->pytest->pyLDAvis) (2.4.2)\n",
      "Requirement already satisfied: six in c:\\users\\srisudaw\\appdata\\local\\continuum\\anaconda3\\lib\\site-packages (from packaging->pytest->pyLDAvis) (1.12.0)\n",
      "Requirement already satisfied: zipp>=0.5 in c:\\users\\srisudaw\\appdata\\local\\continuum\\anaconda3\\lib\\site-packages (from importlib-metadata>=0.12->pytest->pyLDAvis) (0.6.0)\n",
      "Requirement already satisfied: scipy in c:\\users\\srisudaw\\appdata\\local\\continuum\\anaconda3\\lib\\site-packages (1.7.0)\n",
      "Requirement already satisfied: numpy<1.23.0,>=1.16.5 in c:\\users\\srisudaw\\appdata\\local\\continuum\\anaconda3\\lib\\site-packages (from scipy) (1.20.3)\n",
      "Requirement already satisfied: pyLDAvis==2.1.2 in c:\\users\\srisudaw\\appdata\\local\\continuum\\anaconda3\\lib\\site-packages (2.1.2)\n",
      "Requirement already satisfied: future in c:\\users\\srisudaw\\appdata\\local\\continuum\\anaconda3\\lib\\site-packages (from pyLDAvis==2.1.2) (0.18.2)\n",
      "Requirement already satisfied: funcy in c:\\users\\srisudaw\\appdata\\local\\continuum\\anaconda3\\lib\\site-packages (from pyLDAvis==2.1.2) (1.16)\n",
      "Requirement already satisfied: jinja2>=2.7.2 in c:\\users\\srisudaw\\appdata\\local\\continuum\\anaconda3\\lib\\site-packages (from pyLDAvis==2.1.2) (2.10.3)\n",
      "Requirement already satisfied: scipy>=0.18.0 in c:\\users\\srisudaw\\appdata\\local\\continuum\\anaconda3\\lib\\site-packages (from pyLDAvis==2.1.2) (1.7.0)\n",
      "Requirement already satisfied: numpy>=1.9.2 in c:\\users\\srisudaw\\appdata\\local\\continuum\\anaconda3\\lib\\site-packages (from pyLDAvis==2.1.2) (1.20.3)\n",
      "Requirement already satisfied: numexpr in c:\\users\\srisudaw\\appdata\\local\\continuum\\anaconda3\\lib\\site-packages (from pyLDAvis==2.1.2) (2.7.0)\n",
      "Requirement already satisfied: wheel>=0.23.0 in c:\\users\\srisudaw\\appdata\\local\\continuum\\anaconda3\\lib\\site-packages (from pyLDAvis==2.1.2) (0.33.6)\n",
      "Requirement already satisfied: pytest in c:\\users\\srisudaw\\appdata\\local\\continuum\\anaconda3\\lib\\site-packages (from pyLDAvis==2.1.2) (5.2.1)\n",
      "Requirement already satisfied: pandas>=0.17.0 in c:\\users\\srisudaw\\appdata\\local\\continuum\\anaconda3\\lib\\site-packages (from pyLDAvis==2.1.2) (1.2.4)\n",
      "Requirement already satisfied: joblib>=0.8.4 in c:\\users\\srisudaw\\appdata\\local\\continuum\\anaconda3\\lib\\site-packages (from pyLDAvis==2.1.2) (0.13.2)\n",
      "Requirement already satisfied: MarkupSafe>=0.23 in c:\\users\\srisudaw\\appdata\\local\\continuum\\anaconda3\\lib\\site-packages (from jinja2>=2.7.2->pyLDAvis==2.1.2) (1.1.1)\n",
      "Requirement already satisfied: py>=1.5.0 in c:\\users\\srisudaw\\appdata\\local\\continuum\\anaconda3\\lib\\site-packages (from pytest->pyLDAvis==2.1.2) (1.8.0)\n",
      "Requirement already satisfied: packaging in c:\\users\\srisudaw\\appdata\\local\\continuum\\anaconda3\\lib\\site-packages (from pytest->pyLDAvis==2.1.2) (19.2)\n",
      "Requirement already satisfied: attrs>=17.4.0 in c:\\users\\srisudaw\\appdata\\local\\continuum\\anaconda3\\lib\\site-packages (from pytest->pyLDAvis==2.1.2) (19.2.0)\n",
      "Requirement already satisfied: more-itertools>=4.0.0 in c:\\users\\srisudaw\\appdata\\local\\continuum\\anaconda3\\lib\\site-packages (from pytest->pyLDAvis==2.1.2) (7.2.0)\n",
      "Requirement already satisfied: atomicwrites>=1.0 in c:\\users\\srisudaw\\appdata\\local\\continuum\\anaconda3\\lib\\site-packages (from pytest->pyLDAvis==2.1.2) (1.3.0)\n",
      "Requirement already satisfied: pluggy<1.0,>=0.12 in c:\\users\\srisudaw\\appdata\\local\\continuum\\anaconda3\\lib\\site-packages (from pytest->pyLDAvis==2.1.2) (0.13.0)\n",
      "Requirement already satisfied: wcwidth in c:\\users\\srisudaw\\appdata\\local\\continuum\\anaconda3\\lib\\site-packages (from pytest->pyLDAvis==2.1.2) (0.1.7)\n",
      "Requirement already satisfied: importlib-metadata>=0.12 in c:\\users\\srisudaw\\appdata\\local\\continuum\\anaconda3\\lib\\site-packages (from pytest->pyLDAvis==2.1.2) (0.23)\n",
      "Requirement already satisfied: colorama in c:\\users\\srisudaw\\appdata\\local\\continuum\\anaconda3\\lib\\site-packages (from pytest->pyLDAvis==2.1.2) (0.4.1)\n",
      "Requirement already satisfied: python-dateutil>=2.7.3 in c:\\users\\srisudaw\\appdata\\local\\continuum\\anaconda3\\lib\\site-packages (from pandas>=0.17.0->pyLDAvis==2.1.2) (2.8.0)\n",
      "Requirement already satisfied: pytz>=2017.3 in c:\\users\\srisudaw\\appdata\\local\\continuum\\anaconda3\\lib\\site-packages (from pandas>=0.17.0->pyLDAvis==2.1.2) (2019.3)\n",
      "Requirement already satisfied: six in c:\\users\\srisudaw\\appdata\\local\\continuum\\anaconda3\\lib\\site-packages (from packaging->pytest->pyLDAvis==2.1.2) (1.12.0)\n",
      "Requirement already satisfied: pyparsing>=2.0.2 in c:\\users\\srisudaw\\appdata\\local\\continuum\\anaconda3\\lib\\site-packages (from packaging->pytest->pyLDAvis==2.1.2) (2.4.2)\n",
      "Requirement already satisfied: zipp>=0.5 in c:\\users\\srisudaw\\appdata\\local\\continuum\\anaconda3\\lib\\site-packages (from importlib-metadata>=0.12->pytest->pyLDAvis==2.1.2) (0.6.0)\n"
     ]
    }
   ],
   "source": [
    "!pip install -U pandas-profiling\n",
    "!pip install --upgrade pythainlp\n",
    "!pip install pyLDAvis\n",
    "!pip install scipy\n",
    "!pip install pyLDAvis==2.1.2"
   ]
  },
  {
   "cell_type": "code",
   "execution_count": 3,
   "metadata": {
    "id": "coXZlOtXgqrt"
   },
   "outputs": [
    {
     "name": "stderr",
     "output_type": "stream",
     "text": [
      "C:\\Users\\srisudaw\\AppData\\Local\\Continuum\\anaconda3\\lib\\site-packages\\scipy\\sparse\\sparsetools.py:21: DeprecationWarning: `scipy.sparse.sparsetools` is deprecated!\n",
      "scipy.sparse.sparsetools is a private module for scipy.sparse, and should not be used.\n",
      "  _deprecated()\n",
      "C:\\Users\\srisudaw\\AppData\\Local\\Continuum\\anaconda3\\lib\\site-packages\\gensim\\similarities\\__init__.py:15: UserWarning: The gensim.similarities.levenshtein submodule is disabled, because the optional Levenshtein package <https://pypi.org/project/python-Levenshtein/> is unavailable. Install Levenhstein (e.g. `pip install python-Levenshtein`) to suppress this warning.\n",
      "  warnings.warn(msg)\n"
     ]
    }
   ],
   "source": [
    "import pythainlp\n",
    "import pyLDAvis\n",
    "import gensim\n",
    "# import pyLDAvis.gensim_models as gensimvis\n",
    "pyLDAvis.enable_notebook()\n",
    "#import warnings\n",
    "#warnings.filterwarnings(\"ignore\", category=DeprecationWarning)"
   ]
  },
  {
   "cell_type": "code",
   "execution_count": 4,
   "metadata": {
    "colab": {
     "base_uri": "https://localhost:8080/"
    },
    "id": "M9hYSN25gxPy",
    "outputId": "915c86e1-13ed-45e9-ff3e-5914709855d0"
   },
   "outputs": [
    {
     "name": "stdout",
     "output_type": "stream",
     "text": [
      "   Review ID                              Restaurant_ID  \\\n",
      "0          1  352696Px-mo-mo-paradise-เดอะมอลล์-บางกะปิ   \n",
      "1          2  352696Px-mo-mo-paradise-เดอะมอลล์-บางกะปิ   \n",
      "2          3  352696Px-mo-mo-paradise-เดอะมอลล์-บางกะปิ   \n",
      "3          4  352696Px-mo-mo-paradise-เดอะมอลล์-บางกะปิ   \n",
      "4          5  352696Px-mo-mo-paradise-เดอะมอลล์-บางกะปิ   \n",
      "\n",
      "                                          Restaurant  \\\n",
      "0  Mo-Mo-Paradise (โม โม พาราไดซ์) เดอะมอลล์ บางกะปิ   \n",
      "1  Mo-Mo-Paradise (โม โม พาราไดซ์) เดอะมอลล์ บางกะปิ   \n",
      "2  Mo-Mo-Paradise (โม โม พาราไดซ์) เดอะมอลล์ บางกะปิ   \n",
      "3  Mo-Mo-Paradise (โม โม พาราไดซ์) เดอะมอลล์ บางกะปิ   \n",
      "4  Mo-Mo-Paradise (โม โม พาราไดซ์) เดอะมอลล์ บางกะปิ   \n",
      "\n",
      "                               User  \\\n",
      "0  7b16469831074f7abc7824745ee75212   \n",
      "1                  pakkaramonpondej   \n",
      "2                           saanowy   \n",
      "3                           ployynp   \n",
      "4  665a902b335b434ab489f00f2fbb477e   \n",
      "\n",
      "                                            Headline  \\\n",
      "0  ที่สำคัญของร้านนี้คือบริการดีมากพนักงานน่ารักส...   \n",
      "1  รสชาติเหมือนทุกสาขา แต่สาขานี้ บริการดี ที่นั่งดี   \n",
      "2             ชาบูพรีเมี่ยมสไตล์ญี่ปุ่น เนื้อดีมากกก   \n",
      "3                          เนื้อดี ไอติมดี คุ้มค่าดี   \n",
      "4                          อาหารมีคุณภาพ บริการดีค่ะ   \n",
      "\n",
      "                                              Review  Rating  \n",
      "0  ที่สำคัญของร้านนี้คือบริการดีมากพนักงานน่ารักส...     5.0  \n",
      "1  นึกถึงชาบูญี่ปุ่นยังไงก็ต้อง คิดถึงโมโม่ พาราไ...     5.0  \n",
      "2  มาทานช่วงนี้ สามารถนั่งโต๊ะเดียวกัน หม้อเดียวก...     4.0  \n",
      "3  ถ้านึกถึงชาบูที่มีเนื้อเน้นๆ ในราคาไม่โหดจนเกิ...     4.0  \n",
      "4  เดินมาหน้าร้านแล้วได้กลิ่นชาบูหอมมาก ๆ  ประกอบ...     5.0  \n"
     ]
    }
   ],
   "source": [
    "df = pd.read_csv('CustomerReviews.csv')\n",
    "print(df.head())"
   ]
  },
  {
   "cell_type": "code",
   "execution_count": 5,
   "metadata": {},
   "outputs": [
    {
     "data": {
      "text/plain": [
       "array(['Mo-Mo-Paradise (โม โม พาราไดซ์) เดอะมอลล์ บางกะปิ',\n",
       "       'Shabushi (ชาบูชิ) เดอะมอลล์บางกะปิ ชั้น G', 'ข้าน้อยขอชาบู'],\n",
       "      dtype=object)"
      ]
     },
     "execution_count": 5,
     "metadata": {},
     "output_type": "execute_result"
    }
   ],
   "source": [
    "df['Restaurant'].unique()"
   ]
  },
  {
   "cell_type": "code",
   "execution_count": 6,
   "metadata": {},
   "outputs": [],
   "source": [
    "df = df[df['Restaurant']=='Shabushi (ชาบูชิ) เดอะมอลล์บางกะปิ ชั้น G']"
   ]
  },
  {
   "cell_type": "code",
   "execution_count": 7,
   "metadata": {
    "id": "GHMACSs-hEqg"
   },
   "outputs": [],
   "source": [
    "stopwords = list(pythainlp.corpus.thai_stopwords())\n",
    "removed_words = ['😆','🤣',' ', '  ', '\\n','\\n\\n', 'ร้าน', '(', ')' , '           ','–', '!', '!!','-','/','+','\"','','%','\\u200b','::', ':','+']\n",
    "screening_words = stopwords + removed_words\n",
    "\n",
    "def tokenize_with_space(sentence):\n",
    "  merged = ''\n",
    "  words = pythainlp.word_tokenize(str(sentence), engine='newmm')\n",
    "  for word in words:\n",
    "    if word not in screening_words:\n",
    "      merged = merged + ',' + word\n",
    "  return merged[1:]"
   ]
  },
  {
   "cell_type": "code",
   "execution_count": 8,
   "metadata": {
    "id": "EJnLFg2OhGy1"
   },
   "outputs": [
    {
     "data": {
      "text/html": [
       "<div>\n",
       "<style scoped>\n",
       "    .dataframe tbody tr th:only-of-type {\n",
       "        vertical-align: middle;\n",
       "    }\n",
       "\n",
       "    .dataframe tbody tr th {\n",
       "        vertical-align: top;\n",
       "    }\n",
       "\n",
       "    .dataframe thead th {\n",
       "        text-align: right;\n",
       "    }\n",
       "</style>\n",
       "<table border=\"1\" class=\"dataframe\">\n",
       "  <thead>\n",
       "    <tr style=\"text-align: right;\">\n",
       "      <th></th>\n",
       "      <th>Review ID</th>\n",
       "      <th>Restaurant_ID</th>\n",
       "      <th>Restaurant</th>\n",
       "      <th>User</th>\n",
       "      <th>Headline</th>\n",
       "      <th>Review</th>\n",
       "      <th>Rating</th>\n",
       "      <th>Review_tokenized</th>\n",
       "      <th>Headline_tokenized</th>\n",
       "    </tr>\n",
       "  </thead>\n",
       "  <tbody>\n",
       "    <tr>\n",
       "      <th>11</th>\n",
       "      <td>12</td>\n",
       "      <td>4621tm-shabushi-เดอะมอลล์บางกะปิ-ชั้น-g</td>\n",
       "      <td>Shabushi (ชาบูชิ) เดอะมอลล์บางกะปิ ชั้น G</td>\n",
       "      <td>c08b2776067a4026b882abfc6fca8330</td>\n",
       "      <td>เปลี่ยนจากกุ้งขาดสารอาหารเป็นกุ้งปอกเปลือกแล้ว...</td>\n",
       "      <td>ห่างหายไปนานสำหรับชาบูชิ ตั้งแต่ทางร้านได้ปรับ...</td>\n",
       "      <td>3.0</td>\n",
       "      <td>ห่างหาย,สำหรับ,ชาบู,ชิ,ขึ้นราคา,แถม,ลด,เวลา,คุ...</td>\n",
       "      <td>กุ้ง,ขาดสารอาหาร,กุ้ง,ปอกเปลือก,..,รู้</td>\n",
       "    </tr>\n",
       "    <tr>\n",
       "      <th>12</th>\n",
       "      <td>13</td>\n",
       "      <td>4621tm-shabushi-เดอะมอลล์บางกะปิ-ชั้น-g</td>\n",
       "      <td>Shabushi (ชาบูชิ) เดอะมอลล์บางกะปิ ชั้น G</td>\n",
       "      <td>a96ec47b6cff4bd1834c90d603ef0a7e</td>\n",
       "      <td>อิ่ม อร่อย ฝุดฝุด</td>\n",
       "      <td>เมื่อหลายวันก่อนนัดหาข้าวทานกับเดอะแกงค์ และก็...</td>\n",
       "      <td>4.0</td>\n",
       "      <td>วันก่อน,นัด,หา,ข้าว,ทาน,เดอะ,แกงค์,ลงเอย,อาหาร...</td>\n",
       "      <td>อิ่ม,อร่อย,ฝุดฝุด</td>\n",
       "    </tr>\n",
       "    <tr>\n",
       "      <th>13</th>\n",
       "      <td>14</td>\n",
       "      <td>4621tm-shabushi-เดอะมอลล์บางกะปิ-ชั้น-g</td>\n",
       "      <td>Shabushi (ชาบูชิ) เดอะมอลล์บางกะปิ ชั้น G</td>\n",
       "      <td>a6991f1e0e9b4916ab3ca91d86f8e481</td>\n",
       "      <td>จัดให้เต็มคราบกับชั่วโมงครึ่ง@Shabushi</td>\n",
       "      <td>บอกตรงๆว่าหลายครั้งที่เลือกจะกินบุฟเฟต์จะต้องอ...</td>\n",
       "      <td>3.0</td>\n",
       "      <td>หลายครั้ง,เลือก,กิน,บุฟเฟต์,อาราม,ณ์,รอ,คิว,สุ...</td>\n",
       "      <td>เต็มคราบ,ชั่วโมง,ครึ่ง,@,Shabushi</td>\n",
       "    </tr>\n",
       "    <tr>\n",
       "      <th>14</th>\n",
       "      <td>15</td>\n",
       "      <td>4621tm-shabushi-เดอะมอลล์บางกะปิ-ชั้น-g</td>\n",
       "      <td>Shabushi (ชาบูชิ) เดอะมอลล์บางกะปิ ชั้น G</td>\n",
       "      <td>7eb0c7d8683e407f83cc4d18e51d800d</td>\n",
       "      <td>ชาบู ชาบูชิ</td>\n",
       "      <td>สวัสดีครับวันนี้จะขอมารีวิวร้านชาบูชิ บุฟเฟขวั...</td>\n",
       "      <td>4.0</td>\n",
       "      <td>สวัสดี,รีวิว,ชาบู,ชิ,บุ,ฟเฟ,ขวัญใจ,คน,เมนู,เลื...</td>\n",
       "      <td>ชาบู,ชาบู,ชิ</td>\n",
       "    </tr>\n",
       "    <tr>\n",
       "      <th>15</th>\n",
       "      <td>16</td>\n",
       "      <td>4621tm-shabushi-เดอะมอลล์บางกะปิ-ชั้น-g</td>\n",
       "      <td>Shabushi (ชาบูชิ) เดอะมอลล์บางกะปิ ชั้น G</td>\n",
       "      <td>qvanqvan</td>\n",
       "      <td>บุฟเฟต์น้ำเดือด สายพานร่อน</td>\n",
       "      <td>ชาบูชิ สาขาเดอะมอลล์บางกะปิ ตั้งอยู่ประตูหน้าห...</td>\n",
       "      <td>4.0</td>\n",
       "      <td>ชาบู,ชิ,สาขา,เดอะ,มอลล์,กะปิ,ตั้งอยู่,ประตู,หน...</td>\n",
       "      <td>บุฟเฟต์,น้ำ,เดือด,สายพาน,ร่อน</td>\n",
       "    </tr>\n",
       "  </tbody>\n",
       "</table>\n",
       "</div>"
      ],
      "text/plain": [
       "    Review ID                            Restaurant_ID  \\\n",
       "11         12  4621tm-shabushi-เดอะมอลล์บางกะปิ-ชั้น-g   \n",
       "12         13  4621tm-shabushi-เดอะมอลล์บางกะปิ-ชั้น-g   \n",
       "13         14  4621tm-shabushi-เดอะมอลล์บางกะปิ-ชั้น-g   \n",
       "14         15  4621tm-shabushi-เดอะมอลล์บางกะปิ-ชั้น-g   \n",
       "15         16  4621tm-shabushi-เดอะมอลล์บางกะปิ-ชั้น-g   \n",
       "\n",
       "                                   Restaurant  \\\n",
       "11  Shabushi (ชาบูชิ) เดอะมอลล์บางกะปิ ชั้น G   \n",
       "12  Shabushi (ชาบูชิ) เดอะมอลล์บางกะปิ ชั้น G   \n",
       "13  Shabushi (ชาบูชิ) เดอะมอลล์บางกะปิ ชั้น G   \n",
       "14  Shabushi (ชาบูชิ) เดอะมอลล์บางกะปิ ชั้น G   \n",
       "15  Shabushi (ชาบูชิ) เดอะมอลล์บางกะปิ ชั้น G   \n",
       "\n",
       "                                User  \\\n",
       "11  c08b2776067a4026b882abfc6fca8330   \n",
       "12  a96ec47b6cff4bd1834c90d603ef0a7e   \n",
       "13  a6991f1e0e9b4916ab3ca91d86f8e481   \n",
       "14  7eb0c7d8683e407f83cc4d18e51d800d   \n",
       "15                          qvanqvan   \n",
       "\n",
       "                                             Headline  \\\n",
       "11  เปลี่ยนจากกุ้งขาดสารอาหารเป็นกุ้งปอกเปลือกแล้ว...   \n",
       "12                                  อิ่ม อร่อย ฝุดฝุด   \n",
       "13             จัดให้เต็มคราบกับชั่วโมงครึ่ง@Shabushi   \n",
       "14                                        ชาบู ชาบูชิ   \n",
       "15                         บุฟเฟต์น้ำเดือด สายพานร่อน   \n",
       "\n",
       "                                               Review  Rating  \\\n",
       "11  ห่างหายไปนานสำหรับชาบูชิ ตั้งแต่ทางร้านได้ปรับ...     3.0   \n",
       "12  เมื่อหลายวันก่อนนัดหาข้าวทานกับเดอะแกงค์ และก็...     4.0   \n",
       "13  บอกตรงๆว่าหลายครั้งที่เลือกจะกินบุฟเฟต์จะต้องอ...     3.0   \n",
       "14  สวัสดีครับวันนี้จะขอมารีวิวร้านชาบูชิ บุฟเฟขวั...     4.0   \n",
       "15  ชาบูชิ สาขาเดอะมอลล์บางกะปิ ตั้งอยู่ประตูหน้าห...     4.0   \n",
       "\n",
       "                                     Review_tokenized  \\\n",
       "11  ห่างหาย,สำหรับ,ชาบู,ชิ,ขึ้นราคา,แถม,ลด,เวลา,คุ...   \n",
       "12  วันก่อน,นัด,หา,ข้าว,ทาน,เดอะ,แกงค์,ลงเอย,อาหาร...   \n",
       "13  หลายครั้ง,เลือก,กิน,บุฟเฟต์,อาราม,ณ์,รอ,คิว,สุ...   \n",
       "14  สวัสดี,รีวิว,ชาบู,ชิ,บุ,ฟเฟ,ขวัญใจ,คน,เมนู,เลื...   \n",
       "15  ชาบู,ชิ,สาขา,เดอะ,มอลล์,กะปิ,ตั้งอยู่,ประตู,หน...   \n",
       "\n",
       "                        Headline_tokenized  \n",
       "11  กุ้ง,ขาดสารอาหาร,กุ้ง,ปอกเปลือก,..,รู้  \n",
       "12                       อิ่ม,อร่อย,ฝุดฝุด  \n",
       "13       เต็มคราบ,ชั่วโมง,ครึ่ง,@,Shabushi  \n",
       "14                            ชาบู,ชาบู,ชิ  \n",
       "15           บุฟเฟต์,น้ำ,เดือด,สายพาน,ร่อน  "
      ]
     },
     "execution_count": 8,
     "metadata": {},
     "output_type": "execute_result"
    }
   ],
   "source": [
    "df['Review_tokenized'] = df['Review'].apply(lambda x: tokenize_with_space(x))\n",
    "df['Headline_tokenized'] = df['Headline'].apply(lambda x: tokenize_with_space(x))\n",
    "df.tail()"
   ]
  },
  {
   "cell_type": "code",
   "execution_count": 9,
   "metadata": {
    "id": "di--23Kh1oXe"
   },
   "outputs": [],
   "source": [
    "documents = df['Review_tokenized'].to_list()\n",
    "texts = [[text for text in doc.split(',')] for doc in documents]\n",
    "dictionary = gensim.corpora.Dictionary(texts)"
   ]
  },
  {
   "cell_type": "code",
   "execution_count": 10,
   "metadata": {
    "colab": {
     "base_uri": "https://localhost:8080/"
    },
    "id": "476CAurt1sCD",
    "outputId": "d08f7ec0-5b7b-452d-bfaa-96c80f6f359d"
   },
   "outputs": [
    {
     "name": "stdout",
     "output_type": "stream",
     "text": [
      "dict_keys(['..', '399', 'กุ้ง', 'ของกิน', 'ขา', 'คุ้ม', 'ชิ', 'ซูชิ', 'ซ่า', 'ตอน', 'ตอนนี้', 'ทาน', 'นิดนึง', 'บาท', 'บู', 'ปุระ', 'ปูอัด', 'ม', 'ราคา', 'ละลานตา', 'สายพาน', 'หิว', 'อาหาร', 'ฮ่า', 'าน', 'เกี๊ยว', 'เท', 'เทียบ', 'เมนู', 'เล่น', 'แพง', 'แล้วก็', 'ไม่งั้น', 'กลาย', 'กี่', 'ชอบ', 'ชั่วคราว', 'ชาบู', 'ชื่นใจ', 'ซะงั้น', 'ญี่', 'ดึก', 'ตบท้าย', 'ตัว', 'ทอด', 'ทานอาหาร', 'นพ', 'นึก', 'น้ะ', 'ปลา', 'ปุ', 'ผิดหวัง', 'ลืม', 'วก', 'สมใจ', 'อย่า', 'อาหารเสริม', 'เติม', 'เป็นมา', 'เป็นหลัก', 'เย็น', 'ไข่', 'ไอติม', '1.15', '4', 'net', 'กลับมา', 'ของคาว', 'ชม.', 'ซุป', 'ดี', 'ตรงนั้น', 'น้ำ', 'บุฟเฟ่ต์', 'ยืน', 'รส', 'ลายตา', 'สด', 'สไลด์', 'อัพเดท', 'อิ่ม', 'เนื้อ', 'เบ', 'เพลิน', 'เลือก', 'ไลน์', '/คน', '1', '15', '359', '5', 'G', 'Net', 'Shabushi', 'กด', 'กรอ', 'กะปิ', 'กิน', 'ของหวาน', 'ขาดสารอาหาร', 'ขึ้นราคา', 'ข่าว', 'คน', 'คนเดียว', 'ครึ่ง', 'คิว', 'คุณภาพ', 'งาน', 'จาน', 'จืด', 'จุ', 'ชั่วโมง', 'ชั้น', 'ชื่น', 'ดู', 'ตลับ', 'ตัก', 'ตับ', 'ตั้งอยู่', 'ติง', 'ติด', 'ถนนใหญ่', 'ถูกใจ', 'ทำ', 'ทิ้ง', 'ธรรมดา', 'นะคะ', 'นาที', 'นุ่ม', 'น้ำมัน', 'บดี', 'ปลาดิบ', 'ปอกเปลือก', 'ฝรั่ง', 'ฝั่ง', 'พนักงาน', 'มอลล์', 'มื้อ', 'รสชาติ', 'รอ', 'ระดับ', 'รายการ', 'รู้สึก', 'ลด', 'ลา', 'ลูก', 'ลูกชิ้น', 'วันหยุด', 'วาง', 'วานิลา', 'สะอาด', 'สาขา', 'สาเหตุ', 'สำหรับ', 'สไปรท์', 'ส่วนตัว', 'หนา', 'หน้า', 'หมู', 'หวาน', 'หอม', 'หอย', 'หาไม่', 'ห่างหาย', 'ห้าง', 'อม', 'อร่อย', 'ออกมา', 'อาทิตย์', 'อีกครั้ง', 'เช็คบิล', 'เดอะ', 'เด่น', 'เด้ง', 'เบคอน', 'เปรี้ยวหวาน', 'เพื่อน', 'เรื่อง', 'เลิก', 'เวลา', 'เสาร์', 'เหมือน', 'เหมือนกัน', 'แก้ว', 'แถม', 'แน่น', 'แป้ง', 'แย่', 'แออัด', 'โซน', 'โดน', 'โดยประมาณ', 'โดยรวม', 'โฟลต', 'โอ', 'โอเค', 'ใจดี', 'ใจมา', 'ใช้ได้', 'ใส่', 'ได้ยิน', 'ไอศกรีม', 'ข้าว', 'ชอค', 'ต', 'นัด', 'นิ', 'มะนาว', 'มุ', 'รี่', 'ลงเอย', 'ว', 'วันก่อน', 'สตอ', 'ห', 'หลาก', 'หา', 'อยุ่', 'อาหารสด', 'เบอร์', 'แกงค์', 'แล', 'โก', 'กินที่', 'ขยัน', 'จอง', 'ชู', 'ณ์', 'ที่นั่ง', 'บุฟเฟต์', 'ป', 'ประตู', 'ผัก', 'พลาด', 'พอได้', 'พี่', 'รอบ', 'ร้อย', 'สาม', 'สุดท้าย', 'หยิบ', 'หลายครั้ง', 'หล่ะ', 'อาราม', 'เข้าหน้า', 'เดิน', 'เต็ม', 'โชคดี', '555', 'ขวัญใจ', 'ข้อดี', 'จิ้ม', 'ต้องการ', 'ทั่วถึง', 'นํ้า', 'บ', 'บริการ', 'บุ', 'ฟเฟ', 'มี่', 'ระบบ', 'รีวิว', 'ลอง', 'ลูกค้า', 'สวัสดี', 'เก้', 'ใช้แล้ว', '3', '^^', 'xx', 'กลยุทธ์', 'ขนาด', 'ข้น', 'ข้าวปั้น', 'คอ', 'คุ้มค่า', 'ค่า', 'ชอป', 'ซุ้ม', 'ดำ', 'ดีขึ้น', 'ดีมาก', 'ตรงข้าม', 'ตรงนี้', 'ต้ม', 'ต้มยำ', 'ท่าน', 'นัล', 'บริเวณ', 'บัตรสมาชิก', 'ปรับปรุง', 'มันดี', 'มากขึ้น', 'ยอด', 'ลาน', 'สลัด', 'หมู่คณะ', 'หม้อ', 'ออกร้าน', 'อิอิ', 'เครือ', 'เคลื่อนตัว', 'เคาน์เตอร์', 'เบา', 'เป็นแนว', 'แมค', 'โชคชะตา', 'โด', 'โต๊ะ', 'โน้น', 'โออิชิ', 'ใส'])\n"
     ]
    }
   ],
   "source": [
    "print(dictionary.token2id.keys())"
   ]
  },
  {
   "cell_type": "code",
   "execution_count": 11,
   "metadata": {
    "id": "bKLGofHw1tsN"
   },
   "outputs": [],
   "source": [
    "gensim_corpus = [dictionary.doc2bow(text, allow_update=True) for text in texts]"
   ]
  },
  {
   "cell_type": "code",
   "execution_count": 12,
   "metadata": {
    "colab": {
     "base_uri": "https://localhost:8080/"
    },
    "id": "582BjQh71x-h",
    "outputId": "5eeb0594-03f4-4232-df97-546e5b788760"
   },
   "outputs": [
    {
     "name": "stdout",
     "output_type": "stream",
     "text": [
      "[[(0, 1), (1, 1), (2, 1), (3, 1), (4, 1), (5, 2), (6, 1), (7, 1), (8, 1), (9, 1), (10, 1), (11, 1), (12, 1), (13, 1), (14, 1), (15, 1), (16, 1), (17, 1), (18, 1), (19, 1), (20, 1), (21, 1), (22, 3), (23, 1), (24, 1), (25, 1), (26, 1), (27, 1), (28, 1), (29, 1), (30, 1), (31, 1), (32, 1)], [(2, 4), (5, 1), (6, 1), (7, 1), (11, 3), (15, 4), (17, 4), (26, 4), (28, 1), (33, 1), (34, 1), (35, 1), (36, 1), (37, 2), (38, 1), (39, 1), (40, 1), (41, 1), (42, 1), (43, 1), (44, 2), (45, 1), (46, 1), (47, 1), (48, 1), (49, 1), (50, 1), (51, 1), (52, 1), (53, 1), (54, 1), (55, 1), (56, 1), (57, 1), (58, 1), (59, 1), (60, 1), (61, 1), (62, 1)], [(1, 1), (2, 1), (5, 1), (6, 1), (7, 1), (10, 1), (11, 3), (13, 1), (15, 1), (17, 1), (18, 1), (26, 1), (37, 1), (59, 1), (63, 1), (64, 1), (65, 1), (66, 1), (67, 1), (68, 1), (69, 1), (70, 1), (71, 1), (72, 1), (73, 1), (74, 1), (75, 1), (76, 1), (77, 1), (78, 1), (79, 1), (80, 1), (81, 1), (82, 1), (83, 1), (84, 1), (85, 1)], [(2, 7), (5, 1), (6, 1), (7, 1), (9, 1), (11, 1), (12, 1), (15, 1), (17, 1), (18, 1), (20, 1), (22, 3), (26, 1), (27, 1), (28, 1), (37, 1), (43, 3), (44, 1), (51, 1), (55, 1), (62, 1), (66, 3), (70, 5), (72, 1), (73, 1), (77, 7), (78, 2), (81, 3), (83, 1), (86, 1), (87, 3), (88, 2), (89, 1), (90, 1), (91, 1), (92, 1), (93, 1), (94, 1), (95, 1), (96, 1), (97, 9), (98, 1), (99, 1), (100, 1), (101, 1), (102, 5), (103, 1), (104, 1), (105, 2), (106, 1), (107, 1), (108, 1), (109, 1), (110, 1), (111, 2), (112, 1), (113, 2), (114, 2), (115, 1), (116, 1), (117, 1), (118, 2), (119, 1), (120, 2), (121, 1), (122, 1), (123, 1), (124, 1), (125, 2), (126, 2), (127, 2), (128, 3), (129, 1), (130, 1), (131, 1), (132, 2), (133, 1), (134, 1), (135, 1), (136, 1), (137, 1), (138, 2), (139, 2), (140, 1), (141, 1), (142, 2), (143, 1), (144, 1), (145, 1), (146, 1), (147, 1), (148, 1), (149, 2), (150, 1), (151, 3), (152, 1), (153, 4), (154, 1), (155, 1), (156, 1), (157, 1), (158, 1), (159, 2), (160, 2), (161, 1), (162, 1), (163, 1), (164, 2), (165, 1), (166, 1), (167, 1), (168, 1), (169, 2), (170, 2), (171, 1), (172, 1), (173, 2), (174, 1), (175, 1), (176, 1), (177, 1), (178, 1), (179, 5), (180, 1), (181, 1), (182, 1), (183, 1), (184, 1), (185, 1), (186, 1), (187, 1), (188, 1), (189, 1), (190, 2), (191, 1), (192, 1), (193, 1), (194, 1), (195, 1), (196, 2), (197, 1), (198, 3), (199, 1), (200, 1), (201, 1)], [(7, 1), (11, 2), (13, 1), (18, 1), (22, 1), (68, 1), (70, 1), (73, 1), (75, 1), (78, 1), (87, 1), (88, 1), (89, 1), (91, 1), (102, 1), (112, 1), (128, 1), (138, 2), (144, 1), (166, 1), (171, 1), (179, 1), (201, 1), (202, 1), (203, 1), (204, 1), (205, 1), (206, 1), (207, 1), (208, 1), (209, 1), (210, 1), (211, 1), (212, 1), (213, 1), (214, 1), (215, 1), (216, 1), (217, 1), (218, 1), (219, 1), (220, 1), (221, 1), (222, 1)], [(6, 1), (13, 1), (18, 1), (20, 1), (30, 1), (31, 1), (70, 1), (77, 1), (81, 1), (84, 1), (91, 1), (93, 1), (96, 1), (97, 3), (102, 3), (104, 1), (105, 2), (111, 1), (112, 1), (114, 2), (135, 1), (136, 1), (139, 3), (151, 1), (164, 1), (171, 1), (178, 1), (195, 1), (223, 1), (224, 1), (225, 1), (226, 1), (227, 1), (228, 1), (229, 2), (230, 1), (231, 1), (232, 2), (233, 1), (234, 1), (235, 1), (236, 1), (237, 1), (238, 1), (239, 1), (240, 1), (241, 1), (242, 1), (243, 1), (244, 1), (245, 1), (246, 1), (247, 1)], [(5, 1), (6, 1), (11, 2), (20, 1), (28, 1), (37, 1), (69, 1), (84, 2), (102, 1), (108, 1), (114, 1), (166, 2), (240, 1), (248, 1), (249, 1), (250, 1), (251, 1), (252, 1), (253, 1), (254, 2), (255, 1), (256, 1), (257, 1), (258, 1), (259, 1), (260, 1), (261, 1), (262, 1), (263, 1), (264, 1), (265, 1), (266, 1)], [(6, 2), (11, 2), (13, 1), (18, 1), (20, 2), (22, 2), (28, 1), (29, 1), (37, 1), (44, 1), (57, 1), (62, 1), (69, 1), (70, 1), (72, 1), (81, 1), (84, 3), (96, 1), (98, 1), (105, 1), (106, 1), (108, 1), (118, 1), (136, 1), (139, 1), (143, 1), (148, 1), (151, 1), (157, 3), (164, 2), (171, 1), (184, 1), (185, 1), (226, 1), (231, 1), (240, 1), (248, 1), (267, 2), (268, 1), (269, 1), (270, 1), (271, 1), (272, 1), (273, 1), (274, 1), (275, 1), (276, 2), (277, 1), (278, 1), (279, 1), (280, 1), (281, 1), (282, 1), (283, 1), (284, 1), (285, 1), (286, 1), (287, 1), (288, 1), (289, 1), (290, 1), (291, 1), (292, 1), (293, 1), (294, 1), (295, 1), (296, 1), (297, 3), (298, 1), (299, 1), (300, 1), (301, 1), (302, 1), (303, 1), (304, 1), (305, 1), (306, 1), (307, 1), (308, 1), (309, 1), (310, 1), (311, 1)]]\n"
     ]
    }
   ],
   "source": [
    "print(gensim_corpus)"
   ]
  },
  {
   "cell_type": "code",
   "execution_count": 13,
   "metadata": {
    "id": "i0fnAHe410Mv"
   },
   "outputs": [],
   "source": [
    "word_frequencies = [[(dictionary[id], frequence) for id, frequence in couple] for couple in gensim_corpus]"
   ]
  },
  {
   "cell_type": "code",
   "execution_count": 14,
   "metadata": {
    "colab": {
     "base_uri": "https://localhost:8080/"
    },
    "id": "QfdkW4d711dG",
    "outputId": "d4975d79-8a35-4088-8581-b98047ffc71c"
   },
   "outputs": [
    {
     "name": "stdout",
     "output_type": "stream",
     "text": [
      "[[('..', 1), ('399', 1), ('กุ้ง', 1), ('ของกิน', 1), ('ขา', 1), ('คุ้ม', 2), ('ชิ', 1), ('ซูชิ', 1), ('ซ่า', 1), ('ตอน', 1), ('ตอนนี้', 1), ('ทาน', 1), ('นิดนึง', 1), ('บาท', 1), ('บู', 1), ('ปุระ', 1), ('ปูอัด', 1), ('ม', 1), ('ราคา', 1), ('ละลานตา', 1), ('สายพาน', 1), ('หิว', 1), ('อาหาร', 3), ('ฮ่า', 1), ('าน', 1), ('เกี๊ยว', 1), ('เท', 1), ('เทียบ', 1), ('เมนู', 1), ('เล่น', 1), ('แพง', 1), ('แล้วก็', 1), ('ไม่งั้น', 1)], [('กุ้ง', 4), ('คุ้ม', 1), ('ชิ', 1), ('ซูชิ', 1), ('ทาน', 3), ('ปุระ', 4), ('ม', 4), ('เท', 4), ('เมนู', 1), ('กลาย', 1), ('กี่', 1), ('ชอบ', 1), ('ชั่วคราว', 1), ('ชาบู', 2), ('ชื่นใจ', 1), ('ซะงั้น', 1), ('ญี่', 1), ('ดึก', 1), ('ตบท้าย', 1), ('ตัว', 1), ('ทอด', 2), ('ทานอาหาร', 1), ('นพ', 1), ('นึก', 1), ('น้ะ', 1), ('ปลา', 1), ('ปุ', 1), ('ผิดหวัง', 1), ('ลืม', 1), ('วก', 1), ('สมใจ', 1), ('อย่า', 1), ('อาหารเสริม', 1), ('เติม', 1), ('เป็นมา', 1), ('เป็นหลัก', 1), ('เย็น', 1), ('ไข่', 1), ('ไอติม', 1)], [('399', 1), ('กุ้ง', 1), ('คุ้ม', 1), ('ชิ', 1), ('ซูชิ', 1), ('ตอนนี้', 1), ('ทาน', 3), ('บาท', 1), ('ปุระ', 1), ('ม', 1), ('ราคา', 1), ('เท', 1), ('ชาบู', 1), ('เป็นหลัก', 1), ('1.15', 1), ('4', 1), ('net', 1), ('กลับมา', 1), ('ของคาว', 1), ('ชม.', 1), ('ซุป', 1), ('ดี', 1), ('ตรงนั้น', 1), ('น้ำ', 1), ('บุฟเฟ่ต์', 1), ('ยืน', 1), ('รส', 1), ('ลายตา', 1), ('สด', 1), ('สไลด์', 1), ('อัพเดท', 1), ('อิ่ม', 1), ('เนื้อ', 1), ('เบ', 1), ('เพลิน', 1), ('เลือก', 1), ('ไลน์', 1)], [('กุ้ง', 7), ('คุ้ม', 1), ('ชิ', 1), ('ซูชิ', 1), ('ตอน', 1), ('ทาน', 1), ('นิดนึง', 1), ('ปุระ', 1), ('ม', 1), ('ราคา', 1), ('สายพาน', 1), ('อาหาร', 3), ('เท', 1), ('เทียบ', 1), ('เมนู', 1), ('ชาบู', 1), ('ตัว', 3), ('ทอด', 1), ('ผิดหวัง', 1), ('อย่า', 1), ('ไอติม', 1), ('กลับมา', 3), ('ดี', 5), ('น้ำ', 1), ('บุฟเฟ่ต์', 1), ('สด', 7), ('สไลด์', 2), ('เนื้อ', 3), ('เพลิน', 1), ('/คน', 1), ('1', 3), ('15', 2), ('359', 1), ('5', 1), ('G', 1), ('Net', 1), ('Shabushi', 1), ('กด', 1), ('กรอ', 1), ('กะปิ', 1), ('กิน', 9), ('ของหวาน', 1), ('ขาดสารอาหาร', 1), ('ขึ้นราคา', 1), ('ข่าว', 1), ('คน', 5), ('คนเดียว', 1), ('ครึ่ง', 1), ('คิว', 2), ('คุณภาพ', 1), ('งาน', 1), ('จาน', 1), ('จืด', 1), ('จุ', 1), ('ชั่วโมง', 2), ('ชั้น', 1), ('ชื่น', 2), ('ดู', 2), ('ตลับ', 1), ('ตัก', 1), ('ตับ', 1), ('ตั้งอยู่', 2), ('ติง', 1), ('ติด', 2), ('ถนนใหญ่', 1), ('ถูกใจ', 1), ('ทำ', 1), ('ทิ้ง', 1), ('ธรรมดา', 2), ('นะคะ', 2), ('นาที', 2), ('นุ่ม', 3), ('น้ำมัน', 1), ('บดี', 1), ('ปลาดิบ', 1), ('ปอกเปลือก', 2), ('ฝรั่ง', 1), ('ฝั่ง', 1), ('พนักงาน', 1), ('มอลล์', 1), ('มื้อ', 1), ('รสชาติ', 2), ('รอ', 2), ('ระดับ', 1), ('รายการ', 1), ('รู้สึก', 2), ('ลด', 1), ('ลา', 1), ('ลูก', 1), ('ลูกชิ้น', 1), ('วันหยุด', 1), ('วาง', 1), ('วานิลา', 2), ('สะอาด', 1), ('สาขา', 3), ('สาเหตุ', 1), ('สำหรับ', 4), ('สไปรท์', 1), ('ส่วนตัว', 1), ('หนา', 1), ('หน้า', 1), ('หมู', 1), ('หวาน', 2), ('หอม', 2), ('หอย', 1), ('หาไม่', 1), ('ห่างหาย', 1), ('ห้าง', 2), ('อม', 1), ('อร่อย', 1), ('ออกมา', 1), ('อาทิตย์', 1), ('อีกครั้ง', 2), ('เช็คบิล', 2), ('เดอะ', 1), ('เด่น', 1), ('เด้ง', 2), ('เบคอน', 1), ('เปรี้ยวหวาน', 1), ('เพื่อน', 1), ('เรื่อง', 1), ('เลิก', 1), ('เวลา', 5), ('เสาร์', 1), ('เหมือน', 1), ('เหมือนกัน', 1), ('แก้ว', 1), ('แถม', 1), ('แน่น', 1), ('แป้ง', 1), ('แย่', 1), ('แออัด', 1), ('โซน', 1), ('โดน', 2), ('โดยประมาณ', 1), ('โดยรวม', 1), ('โฟลต', 1), ('โอ', 1), ('โอเค', 1), ('ใจดี', 2), ('ใจมา', 1), ('ใช้ได้', 3), ('ใส่', 1), ('ได้ยิน', 1), ('ไอศกรีม', 1)], [('ซูชิ', 1), ('ทาน', 2), ('บาท', 1), ('ราคา', 1), ('อาหาร', 1), ('ชม.', 1), ('ดี', 1), ('บุฟเฟ่ต์', 1), ('รส', 1), ('สไลด์', 1), ('1', 1), ('15', 1), ('359', 1), ('G', 1), ('คน', 1), ('ชั้น', 1), ('นุ่ม', 1), ('รสชาติ', 2), ('ลา', 1), ('อร่อย', 1), ('เดอะ', 1), ('เวลา', 1), ('ไอศกรีม', 1), ('ข้าว', 1), ('ชอค', 1), ('ต', 1), ('นัด', 1), ('นิ', 1), ('มะนาว', 1), ('มุ', 1), ('รี่', 1), ('ลงเอย', 1), ('ว', 1), ('วันก่อน', 1), ('สตอ', 1), ('ห', 1), ('หลาก', 1), ('หา', 1), ('อยุ่', 1), ('อาหารสด', 1), ('เบอร์', 1), ('แกงค์', 1), ('แล', 1), ('โก', 1)], [('ชิ', 1), ('บาท', 1), ('ราคา', 1), ('สายพาน', 1), ('แพง', 1), ('แล้วก็', 1), ('ดี', 1), ('สด', 1), ('เนื้อ', 1), ('เลือก', 1), ('G', 1), ('Shabushi', 1), ('กะปิ', 1), ('กิน', 3), ('คน', 3), ('ครึ่ง', 1), ('คิว', 2), ('ชั่วโมง', 1), ('ชั้น', 1), ('ดู', 2), ('พนักงาน', 1), ('มอลล์', 1), ('รอ', 3), ('สาขา', 1), ('ห้าง', 1), ('เดอะ', 1), ('เลิก', 1), ('โอเค', 1), ('กินที่', 1), ('ขยัน', 1), ('จอง', 1), ('ชู', 1), ('ณ์', 1), ('ที่นั่ง', 1), ('บุฟเฟต์', 2), ('ป', 1), ('ประตู', 1), ('ผัก', 2), ('พลาด', 1), ('พอได้', 1), ('พี่', 1), ('รอบ', 1), ('ร้อย', 1), ('สาม', 1), ('สุดท้าย', 1), ('หยิบ', 1), ('หลายครั้ง', 1), ('หล่ะ', 1), ('อาราม', 1), ('เข้าหน้า', 1), ('เดิน', 1), ('เต็ม', 1), ('โชคดี', 1)], [('คุ้ม', 1), ('ชิ', 1), ('ทาน', 2), ('สายพาน', 1), ('เมนู', 1), ('ชาบู', 1), ('ซุป', 1), ('เลือก', 2), ('คน', 1), ('จาน', 1), ('ดู', 1), ('อร่อย', 2), ('หยิบ', 1), ('555', 1), ('ขวัญใจ', 1), ('ข้อดี', 1), ('จิ้ม', 1), ('ต้องการ', 1), ('ทั่วถึง', 1), ('นํ้า', 2), ('บ', 1), ('บริการ', 1), ('บุ', 1), ('ฟเฟ', 1), ('มี่', 1), ('ระบบ', 1), ('รีวิว', 1), ('ลอง', 1), ('ลูกค้า', 1), ('สวัสดี', 1), ('เก้', 1), ('ใช้แล้ว', 1)], [('ชิ', 2), ('ทาน', 2), ('บาท', 1), ('ราคา', 1), ('สายพาน', 2), ('อาหาร', 2), ('เมนู', 1), ('เล่น', 1), ('ชาบู', 1), ('ทอด', 1), ('เติม', 1), ('ไอติม', 1), ('ซุป', 1), ('ดี', 1), ('น้ำ', 1), ('เนื้อ', 1), ('เลือก', 3), ('กะปิ', 1), ('ของหวาน', 1), ('คิว', 1), ('คุณภาพ', 1), ('จาน', 1), ('ตั้งอยู่', 1), ('มอลล์', 1), ('รอ', 1), ('ลด', 1), ('วาง', 1), ('สาขา', 1), ('หน้า', 3), ('ห้าง', 2), ('เดอะ', 1), ('แถม', 1), ('แน่น', 1), ('ชู', 1), ('ประตู', 1), ('หยิบ', 1), ('555', 1), ('3', 2), ('^^', 1), ('xx', 1), ('กลยุทธ์', 1), ('ขนาด', 1), ('ข้น', 1), ('ข้าวปั้น', 1), ('คอ', 1), ('คุ้มค่า', 1), ('ค่า', 2), ('ชอป', 1), ('ซุ้ม', 1), ('ดำ', 1), ('ดีขึ้น', 1), ('ดีมาก', 1), ('ตรงข้าม', 1), ('ตรงนี้', 1), ('ต้ม', 1), ('ต้มยำ', 1), ('ท่าน', 1), ('นัล', 1), ('บริเวณ', 1), ('บัตรสมาชิก', 1), ('ปรับปรุง', 1), ('มันดี', 1), ('มากขึ้น', 1), ('ยอด', 1), ('ลาน', 1), ('สลัด', 1), ('หมู่คณะ', 1), ('หม้อ', 3), ('ออกร้าน', 1), ('อิอิ', 1), ('เครือ', 1), ('เคลื่อนตัว', 1), ('เคาน์เตอร์', 1), ('เบา', 1), ('เป็นแนว', 1), ('แมค', 1), ('โชคชะตา', 1), ('โด', 1), ('โต๊ะ', 1), ('โน้น', 1), ('โออิชิ', 1), ('ใส', 1)]]\n"
     ]
    }
   ],
   "source": [
    "print(word_frequencies)"
   ]
  },
  {
   "cell_type": "code",
   "execution_count": 15,
   "metadata": {
    "colab": {
     "base_uri": "https://localhost:8080/"
    },
    "id": "o-TBsoGY17XE",
    "outputId": "ce62512c-ed17-4c8b-87e4-f66aca2fd0b4"
   },
   "outputs": [
    {
     "name": "stdout",
     "output_type": "stream",
     "text": [
      "Wall time: 362 ms\n"
     ]
    }
   ],
   "source": [
    "num_topics = 20\n",
    "chunksize = 1000 # size of the doc looked at every pass\n",
    "passes = 20 # number of passes through documents\n",
    "iterations = 50\n",
    "eval_every = 1  # Don't evaluate model perplexity, takes too much time.\n",
    "\n",
    "temp = dictionary[0]  # This is only to \"load\" the dictionary.\n",
    "id2word = dictionary.id2token\n",
    "\n",
    "%time model = gensim.models.LdaModel(corpus=gensim_corpus, id2word=id2word, chunksize=chunksize, \\\n",
    "                       alpha='auto', eta='auto', \\\n",
    "                       iterations=iterations, num_topics=num_topics, \\\n",
    "                       passes=passes, eval_every=eval_every)"
   ]
  },
  {
   "cell_type": "code",
   "execution_count": 16,
   "metadata": {
    "colab": {
     "base_uri": "https://localhost:8080/"
    },
    "id": "5jTJpP6G2BAF",
    "outputId": "aa7ab5d3-d561-45ad-d5dc-b953fbf19445"
   },
   "outputs": [
    {
     "name": "stdout",
     "output_type": "stream",
     "text": [
      "{0: '..', 1: '399', 2: 'กุ้ง', 3: 'ของกิน', 4: 'ขา', 5: 'คุ้ม', 6: 'ชิ', 7: 'ซูชิ', 8: 'ซ่า', 9: 'ตอน', 10: 'ตอนนี้', 11: 'ทาน', 12: 'นิดนึง', 13: 'บาท', 14: 'บู', 15: 'ปุระ', 16: 'ปูอัด', 17: 'ม', 18: 'ราคา', 19: 'ละลานตา', 20: 'สายพาน', 21: 'หิว', 22: 'อาหาร', 23: 'ฮ่า', 24: 'าน', 25: 'เกี๊ยว', 26: 'เท', 27: 'เทียบ', 28: 'เมนู', 29: 'เล่น', 30: 'แพง', 31: 'แล้วก็', 32: 'ไม่งั้น', 33: 'กลาย', 34: 'กี่', 35: 'ชอบ', 36: 'ชั่วคราว', 37: 'ชาบู', 38: 'ชื่นใจ', 39: 'ซะงั้น', 40: 'ญี่', 41: 'ดึก', 42: 'ตบท้าย', 43: 'ตัว', 44: 'ทอด', 45: 'ทานอาหาร', 46: 'นพ', 47: 'นึก', 48: 'น้ะ', 49: 'ปลา', 50: 'ปุ', 51: 'ผิดหวัง', 52: 'ลืม', 53: 'วก', 54: 'สมใจ', 55: 'อย่า', 56: 'อาหารเสริม', 57: 'เติม', 58: 'เป็นมา', 59: 'เป็นหลัก', 60: 'เย็น', 61: 'ไข่', 62: 'ไอติม', 63: '1.15', 64: '4', 65: 'net', 66: 'กลับมา', 67: 'ของคาว', 68: 'ชม.', 69: 'ซุป', 70: 'ดี', 71: 'ตรงนั้น', 72: 'น้ำ', 73: 'บุฟเฟ่ต์', 74: 'ยืน', 75: 'รส', 76: 'ลายตา', 77: 'สด', 78: 'สไลด์', 79: 'อัพเดท', 80: 'อิ่ม', 81: 'เนื้อ', 82: 'เบ', 83: 'เพลิน', 84: 'เลือก', 85: 'ไลน์', 86: '/คน', 87: '1', 88: '15', 89: '359', 90: '5', 91: 'G', 92: 'Net', 93: 'Shabushi', 94: 'กด', 95: 'กรอ', 96: 'กะปิ', 97: 'กิน', 98: 'ของหวาน', 99: 'ขาดสารอาหาร', 100: 'ขึ้นราคา', 101: 'ข่าว', 102: 'คน', 103: 'คนเดียว', 104: 'ครึ่ง', 105: 'คิว', 106: 'คุณภาพ', 107: 'งาน', 108: 'จาน', 109: 'จืด', 110: 'จุ', 111: 'ชั่วโมง', 112: 'ชั้น', 113: 'ชื่น', 114: 'ดู', 115: 'ตลับ', 116: 'ตัก', 117: 'ตับ', 118: 'ตั้งอยู่', 119: 'ติง', 120: 'ติด', 121: 'ถนนใหญ่', 122: 'ถูกใจ', 123: 'ทำ', 124: 'ทิ้ง', 125: 'ธรรมดา', 126: 'นะคะ', 127: 'นาที', 128: 'นุ่ม', 129: 'น้ำมัน', 130: 'บดี', 131: 'ปลาดิบ', 132: 'ปอกเปลือก', 133: 'ฝรั่ง', 134: 'ฝั่ง', 135: 'พนักงาน', 136: 'มอลล์', 137: 'มื้อ', 138: 'รสชาติ', 139: 'รอ', 140: 'ระดับ', 141: 'รายการ', 142: 'รู้สึก', 143: 'ลด', 144: 'ลา', 145: 'ลูก', 146: 'ลูกชิ้น', 147: 'วันหยุด', 148: 'วาง', 149: 'วานิลา', 150: 'สะอาด', 151: 'สาขา', 152: 'สาเหตุ', 153: 'สำหรับ', 154: 'สไปรท์', 155: 'ส่วนตัว', 156: 'หนา', 157: 'หน้า', 158: 'หมู', 159: 'หวาน', 160: 'หอม', 161: 'หอย', 162: 'หาไม่', 163: 'ห่างหาย', 164: 'ห้าง', 165: 'อม', 166: 'อร่อย', 167: 'ออกมา', 168: 'อาทิตย์', 169: 'อีกครั้ง', 170: 'เช็คบิล', 171: 'เดอะ', 172: 'เด่น', 173: 'เด้ง', 174: 'เบคอน', 175: 'เปรี้ยวหวาน', 176: 'เพื่อน', 177: 'เรื่อง', 178: 'เลิก', 179: 'เวลา', 180: 'เสาร์', 181: 'เหมือน', 182: 'เหมือนกัน', 183: 'แก้ว', 184: 'แถม', 185: 'แน่น', 186: 'แป้ง', 187: 'แย่', 188: 'แออัด', 189: 'โซน', 190: 'โดน', 191: 'โดยประมาณ', 192: 'โดยรวม', 193: 'โฟลต', 194: 'โอ', 195: 'โอเค', 196: 'ใจดี', 197: 'ใจมา', 198: 'ใช้ได้', 199: 'ใส่', 200: 'ได้ยิน', 201: 'ไอศกรีม', 202: 'ข้าว', 203: 'ชอค', 204: 'ต', 205: 'นัด', 206: 'นิ', 207: 'มะนาว', 208: 'มุ', 209: 'รี่', 210: 'ลงเอย', 211: 'ว', 212: 'วันก่อน', 213: 'สตอ', 214: 'ห', 215: 'หลาก', 216: 'หา', 217: 'อยุ่', 218: 'อาหารสด', 219: 'เบอร์', 220: 'แกงค์', 221: 'แล', 222: 'โก', 223: 'กินที่', 224: 'ขยัน', 225: 'จอง', 226: 'ชู', 227: 'ณ์', 228: 'ที่นั่ง', 229: 'บุฟเฟต์', 230: 'ป', 231: 'ประตู', 232: 'ผัก', 233: 'พลาด', 234: 'พอได้', 235: 'พี่', 236: 'รอบ', 237: 'ร้อย', 238: 'สาม', 239: 'สุดท้าย', 240: 'หยิบ', 241: 'หลายครั้ง', 242: 'หล่ะ', 243: 'อาราม', 244: 'เข้าหน้า', 245: 'เดิน', 246: 'เต็ม', 247: 'โชคดี', 248: '555', 249: 'ขวัญใจ', 250: 'ข้อดี', 251: 'จิ้ม', 252: 'ต้องการ', 253: 'ทั่วถึง', 254: 'นํ้า', 255: 'บ', 256: 'บริการ', 257: 'บุ', 258: 'ฟเฟ', 259: 'มี่', 260: 'ระบบ', 261: 'รีวิว', 262: 'ลอง', 263: 'ลูกค้า', 264: 'สวัสดี', 265: 'เก้', 266: 'ใช้แล้ว', 267: '3', 268: '^^', 269: 'xx', 270: 'กลยุทธ์', 271: 'ขนาด', 272: 'ข้น', 273: 'ข้าวปั้น', 274: 'คอ', 275: 'คุ้มค่า', 276: 'ค่า', 277: 'ชอป', 278: 'ซุ้ม', 279: 'ดำ', 280: 'ดีขึ้น', 281: 'ดีมาก', 282: 'ตรงข้าม', 283: 'ตรงนี้', 284: 'ต้ม', 285: 'ต้มยำ', 286: 'ท่าน', 287: 'นัล', 288: 'บริเวณ', 289: 'บัตรสมาชิก', 290: 'ปรับปรุง', 291: 'มันดี', 292: 'มากขึ้น', 293: 'ยอด', 294: 'ลาน', 295: 'สลัด', 296: 'หมู่คณะ', 297: 'หม้อ', 298: 'ออกร้าน', 299: 'อิอิ', 300: 'เครือ', 301: 'เคลื่อนตัว', 302: 'เคาน์เตอร์', 303: 'เบา', 304: 'เป็นแนว', 305: 'แมค', 306: 'โชคชะตา', 307: 'โด', 308: 'โต๊ะ', 309: 'โน้น', 310: 'โออิชิ', 311: 'ใส'}\n"
     ]
    }
   ],
   "source": [
    "print(id2word)"
   ]
  },
  {
   "cell_type": "code",
   "execution_count": 17,
   "metadata": {
    "colab": {
     "base_uri": "https://localhost:8080/"
    },
    "id": "1fhewLUz2DpO",
    "outputId": "3b7608fa-a5e6-43f7-8f43-93d2ebeda1c3"
   },
   "outputs": [
    {
     "data": {
      "text/plain": [
       "[('สด', 0.0032224578),\n",
       " ('กิน', 0.0032167414),\n",
       " ('กุ้ง', 0.0032163137),\n",
       " ('ดี', 0.0032135134),\n",
       " ('เวลา', 0.0032127602),\n",
       " ('คน', 0.0032118028),\n",
       " ('สำหรับ', 0.0032112317),\n",
       " ('ใช้ได้', 0.0032112133),\n",
       " ('นุ่ม', 0.0032099825),\n",
       " ('สาขา', 0.0032097115)]"
      ]
     },
     "execution_count": 17,
     "metadata": {},
     "output_type": "execute_result"
    }
   ],
   "source": [
    "model.show_topic(18)"
   ]
  },
  {
   "cell_type": "code",
   "execution_count": 18,
   "metadata": {
    "id": "ELmZkc6b2Gj_"
   },
   "outputs": [],
   "source": [
    "df['topics'] = df['Review_tokenized'].apply(lambda x: model.get_document_topics(dictionary.doc2bow(x.split(',')))[0][0])\n",
    "df['score'] = df['Review_tokenized'].apply(lambda x: model.get_document_topics(dictionary.doc2bow(x.split(',')))[0][1])"
   ]
  },
  {
   "cell_type": "code",
   "execution_count": 19,
   "metadata": {
    "colab": {
     "base_uri": "https://localhost:8080/"
    },
    "id": "dAKJ9Bup2Ire",
    "outputId": "e47772cc-a583-4578-c1c9-06a590dfa3bf"
   },
   "outputs": [
    {
     "name": "stdout",
     "output_type": "stream",
     "text": [
      "                                               Review  topics\n",
      "8   มา านที่ขาบูชิต้องมาตอนหิว ไม่งั้นจะไม่คุ้มนะค...      10\n",
      "9   ใครชอบกุ้งทอดเทมปุระ แค่กุ้งเทมปุระก็คุ้มแล้ว ...       3\n",
      "10  กลับมาอัพเดทราคาชาบูชิ ตอนนี้อยู่ที่ 399 บาท n...      16\n",
      "11  ห่างหายไปนานสำหรับชาบูชิ ตั้งแต่ทางร้านได้ปรับ...       5\n",
      "12  เมื่อหลายวันก่อนนัดหาข้าวทานกับเดอะแกงค์ และก็...      12\n",
      "13  บอกตรงๆว่าหลายครั้งที่เลือกจะกินบุฟเฟต์จะต้องอ...      14\n",
      "14  สวัสดีครับวันนี้จะขอมารีวิวร้านชาบูชิ บุฟเฟขวั...      10\n",
      "15  ชาบูชิ สาขาเดอะมอลล์บางกะปิ ตั้งอยู่ประตูหน้าห...      13\n"
     ]
    }
   ],
   "source": [
    "# print(df[['Restaurant', 'Review', 'topics', 'score']])\n",
    "print(df[[ 'Review', 'topics']])"
   ]
  },
  {
   "cell_type": "code",
   "execution_count": 20,
   "metadata": {
    "id": "ok8sqOnC2KZO"
   },
   "outputs": [],
   "source": [
    "def topic2Array(x):\n",
    "  topics = \"\"\n",
    "  for i in range(len(x)):\n",
    "    topics += x[i][0]\n",
    "    #print(topics)\n",
    "    if i >= 9:\n",
    "      break;\n",
    "  return topics"
   ]
  },
  {
   "cell_type": "code",
   "execution_count": 21,
   "metadata": {
    "colab": {
     "base_uri": "https://localhost:8080/"
    },
    "id": "4cfzPQAA2MzN",
    "outputId": "3834d0cc-7f55-4015-873a-871f6498f063"
   },
   "outputs": [
    {
     "name": "stdout",
     "output_type": "stream",
     "text": [
      "20\n",
      "['กินสดกุ้งดีสำหรับเวลานุ่มเนื้อคนตัว', 'นิตวันก่อนวลงเอยรี่มุมะนาวหนัด', 'หน้าเลือกค่าหม้อชิสายพาน3ปรับปรุงอาหารข้าวปั้น', 'มกุ้งเทปุระทานทอดชาบูตัวคุ้มชิ', 'นิตวันก่อนวลงเอยรี่มุมะนาวหนัด', 'กินสดกุ้งดีเวลาคนสำหรับเนื้อสาขากลับมา', 'อร่อยเลือกนํ้าดูจิ้มต้องการฟเฟลูกค้าบริการทาน', 'หน้าเลือกหม้อค่าทาน3สายพานชิอาหารห้าง', 'นิตวันก่อนวลงเอยรี่มุมะนาวหนัด', 'สดกินกุ้งดีเวลาตัวกลับมาสำหรับสาขาคน', 'คุ้มทานอาหารเมนูอร่อยสายพานชิเลือกนํ้าจาน', 'นิตวันก่อนวลงเอยรี่มุมะนาวหนัด', 'รสชาติทานนุ่มเดอะเบอร์อยุ่บาทวันก่อนสไลด์แล', 'หม้อเลือกหน้าอาหารชิห้างค่า3ทานสายพาน', 'กินรอคนดูผักบุฟเฟต์คิวสดดีสาขา', 'รอบุฟเฟต์คนกินคิวดูผักมอลล์พี่สาม', 'ทานกุ้งปุระเทมชาบูซูชิชิเลือกดี', 'นิตวันก่อนวลงเอยรี่มุมะนาวหนัด', 'สดกินกุ้งดีเวลาคนสำหรับใช้ได้นุ่มสาขา', 'นิตวันก่อนวลงเอยรี่มุมะนาวหนัด']\n"
     ]
    }
   ],
   "source": [
    "array_topics = []\n",
    "for i in range(model.num_topics):\n",
    "  topic_list = topic2Array(model.show_topic(i))\n",
    "  array_topics.append(topic_list)\n",
    "\n",
    "print(len(array_topics))\n",
    "print (array_topics)"
   ]
  },
  {
   "cell_type": "code",
   "execution_count": 22,
   "metadata": {
    "colab": {
     "base_uri": "https://localhost:8080/"
    },
    "id": "EfFy4wMn2On7",
    "outputId": "8bf543e7-ae2b-40e1-8360-9b1d58d028c4"
   },
   "outputs": [
    {
     "name": "stdout",
     "output_type": "stream",
     "text": [
      "กินสดกุ้งดีสำหรับเวลานุ่มเนื้อคนตัว\n",
      "นิตวันก่อนวลงเอยรี่มุมะนาวหนัด\n",
      "หน้าเลือกค่าหม้อชิสายพาน3ปรับปรุงอาหารข้าวปั้น\n",
      "มกุ้งเทปุระทานทอดชาบูตัวคุ้มชิ\n",
      "นิตวันก่อนวลงเอยรี่มุมะนาวหนัด\n",
      "กินสดกุ้งดีเวลาคนสำหรับเนื้อสาขากลับมา\n",
      "อร่อยเลือกนํ้าดูจิ้มต้องการฟเฟลูกค้าบริการทาน\n",
      "หน้าเลือกหม้อค่าทาน3สายพานชิอาหารห้าง\n",
      "นิตวันก่อนวลงเอยรี่มุมะนาวหนัด\n",
      "สดกินกุ้งดีเวลาตัวกลับมาสำหรับสาขาคน\n",
      "คุ้มทานอาหารเมนูอร่อยสายพานชิเลือกนํ้าจาน\n",
      "นิตวันก่อนวลงเอยรี่มุมะนาวหนัด\n",
      "รสชาติทานนุ่มเดอะเบอร์อยุ่บาทวันก่อนสไลด์แล\n",
      "หม้อเลือกหน้าอาหารชิห้างค่า3ทานสายพาน\n",
      "กินรอคนดูผักบุฟเฟต์คิวสดดีสาขา\n",
      "รอบุฟเฟต์คนกินคิวดูผักมอลล์พี่สาม\n",
      "ทานกุ้งปุระเทมชาบูซูชิชิเลือกดี\n",
      "นิตวันก่อนวลงเอยรี่มุมะนาวหนัด\n",
      "สดกินกุ้งดีเวลาคนสำหรับใช้ได้นุ่มสาขา\n",
      "นิตวันก่อนวลงเอยรี่มุมะนาวหนัด\n"
     ]
    }
   ],
   "source": [
    "for i in array_topics:\n",
    "  print(i)"
   ]
  }
 ],
 "metadata": {
  "colab": {
   "name": "Untitled3.ipynb",
   "provenance": []
  },
  "kernelspec": {
   "display_name": "Python 3",
   "language": "python",
   "name": "python3"
  },
  "language_info": {
   "codemirror_mode": {
    "name": "ipython",
    "version": 3
   },
   "file_extension": ".py",
   "mimetype": "text/x-python",
   "name": "python",
   "nbconvert_exporter": "python",
   "pygments_lexer": "ipython3",
   "version": "3.7.4"
  }
 },
 "nbformat": 4,
 "nbformat_minor": 1
}
